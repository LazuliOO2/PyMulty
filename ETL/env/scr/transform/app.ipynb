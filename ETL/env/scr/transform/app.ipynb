{
 "cells": [
  {
   "cell_type": "code",
   "execution_count": 2,
   "id": "30be6d3a",
   "metadata": {},
   "outputs": [
    {
     "name": "stderr",
     "output_type": "stream",
     "text": [
      "<>:6: SyntaxWarning: invalid escape sequence '\\p'\n",
      "<>:6: SyntaxWarning: invalid escape sequence '\\p'\n",
      "C:\\Users\\Home\\AppData\\Local\\Temp\\ipykernel_264\\2949443538.py:6: SyntaxWarning: invalid escape sequence '\\p'\n",
      "  arquivo = pd.read_json('C:\\pythontrein\\ETL\\env\\scr\\mercadolivre\\data.json')\n"
     ]
    },
    {
     "name": "stdout",
     "output_type": "stream",
     "text": [
      "brand                     object\n",
      "name                      object\n",
      "seller                    object\n",
      "old_price                float64\n",
      "new_price                float64\n",
      "reviews_rating_number    float64\n",
      "reviews_amount           float64\n",
      "dtype: object\n"
     ]
    }
   ],
   "source": [
    "import pandas as pd\n",
    "from sqlalchemy import create_engine\n",
    "from dotenv import load_dotenv\n",
    "import os\n",
    "\n",
    "arquivo = pd.read_json('C:\\pythontrein\\ETL\\env\\scr\\mercadolivre\\data.json')\n",
    "pd.set_option('display.max_columns',None)\n",
    "arquivo['reviews_amount'] = arquivo['reviews_amount'].str.replace('(', '', regex=False)\n",
    "arquivo['reviews_amount'] = arquivo['reviews_amount'].str.replace(')', '', regex=False)\n",
    "arquivo['reviews_amount'] = arquivo['reviews_amount'].astype(float)\n",
    "print(arquivo.dtypes)"
   ]
  },
  {
   "cell_type": "code",
   "execution_count": 4,
   "id": "3582bf7e",
   "metadata": {},
   "outputs": [
    {
     "name": "stdout",
     "output_type": "stream",
     "text": [
      "brand                     object\n",
      "name                      object\n",
      "seller                    object\n",
      "old_price                float64\n",
      "new_price                float64\n",
      "reviews_rating_number    float64\n",
      "reviews_amount            object\n",
      "dtype: object\n",
      "Dados inseridos com sucesso no banco de dados!\n"
     ]
    }
   ],
   "source": [
    "import pandas as pd\n",
    "from sqlalchemy import create_engine\n",
    "from dotenv import load_dotenv\n",
    "import os\n",
    "\n",
    "# Carregar variáveis do .env\n",
    "load_dotenv()\n",
    "\n",
    "# Variáveis de ambiente\n",
    "host = os.getenv(\"MYSQL_HOST\")\n",
    "port = os.getenv(\"MYSQL_PORT\")\n",
    "user = os.getenv(\"MYSQL_USER\")\n",
    "password = os.getenv(\"MYSQL_PASSWORD\")\n",
    "database = os.getenv(\"MYSQL_DATABASE\")\n",
    "\n",
    "# Ler o arquivo JSON\n",
    "arquivo = pd.read_json(r'C:\\pythontrein\\ETL\\env\\scr\\mercadolivre\\data.json')\n",
    "pd.set_option('display.max_columns', None)\n",
    "print(arquivo.dtypes)\n",
    "\n",
    "# Conectar ao banco de dados\n",
    "engine = create_engine(f'mysql+pymysql://{user}:{password}@{host}:{port}/{database}')\n",
    "\n",
    "# Inserir os dados em uma tabela (ex: produtos)\n",
    "arquivo.to_sql('produtos', con=engine, if_exists='replace', index=False)\n",
    "print(\"Dados inseridos com sucesso no banco de dados!\")\n",
    "\n",
    "\n"
   ]
  }
 ],
 "metadata": {
  "kernelspec": {
   "display_name": "env",
   "language": "python",
   "name": "python3"
  },
  "language_info": {
   "codemirror_mode": {
    "name": "ipython",
    "version": 3
   },
   "file_extension": ".py",
   "mimetype": "text/x-python",
   "name": "python",
   "nbconvert_exporter": "python",
   "pygments_lexer": "ipython3",
   "version": "3.12.7"
  }
 },
 "nbformat": 4,
 "nbformat_minor": 5
}
